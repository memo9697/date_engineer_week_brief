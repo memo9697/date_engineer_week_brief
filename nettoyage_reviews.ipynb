{
 "cells": [
  {
   "cell_type": "code",
   "execution_count": 2,
   "metadata": {},
   "outputs": [],
   "source": [
    "import sqlite3\n",
    "import pandas as pd"
   ]
  },
  {
   "cell_type": "code",
   "execution_count": 3,
   "metadata": {},
   "outputs": [
    {
     "name": "stdout",
     "output_type": "stream",
     "text": [
      "<class 'pandas.core.frame.DataFrame'>\n",
      "RangeIndex: 98410 entries, 0 to 98409\n",
      "Data columns (total 8 columns):\n",
      " #   Column                   Non-Null Count  Dtype \n",
      "---  ------                   --------------  ----- \n",
      " 0   review_id                98410 non-null  object\n",
      " 1   order_id                 98410 non-null  object\n",
      " 2   review_score             98410 non-null  int64 \n",
      " 3   review_comment_title     98410 non-null  object\n",
      " 4   review_comment_message   98410 non-null  object\n",
      " 5   review_creation_date     98410 non-null  object\n",
      " 6   review_answer_timestamp  98410 non-null  object\n",
      " 7   timestamp_field_7        27 non-null     object\n",
      "dtypes: int64(1), object(7)\n",
      "memory usage: 6.0+ MB\n"
     ]
    }
   ],
   "source": [
    "connection = sqlite3.connect(\"olist.db\")\n",
    "\n",
    "df_reviews = pd.read_sql_query(\"SELECT * FROM Reviews\", connection)\n",
    "\n",
    "connection.close()\n",
    "\n",
    "df_reviews.info()"
   ]
  },
  {
   "cell_type": "code",
   "execution_count": 4,
   "metadata": {},
   "outputs": [
    {
     "name": "stdout",
     "output_type": "stream",
     "text": [
      "<class 'pandas.core.frame.DataFrame'>\n",
      "RangeIndex: 98410 entries, 0 to 98409\n",
      "Data columns (total 7 columns):\n",
      " #   Column                   Non-Null Count  Dtype \n",
      "---  ------                   --------------  ----- \n",
      " 0   review_id                98410 non-null  object\n",
      " 1   order_id                 98410 non-null  object\n",
      " 2   review_score             98410 non-null  int64 \n",
      " 3   review_comment_title     98410 non-null  object\n",
      " 4   review_comment_message   98410 non-null  object\n",
      " 5   review_creation_date     98410 non-null  object\n",
      " 6   review_answer_timestamp  98410 non-null  object\n",
      "dtypes: int64(1), object(6)\n",
      "memory usage: 5.3+ MB\n"
     ]
    }
   ],
   "source": [
    "# Nettoyage du df reviews\n",
    "\n",
    "df_reviews = df_reviews.drop([\"timestamp_field_7\"], axis=1)\n",
    "\n",
    "df_reviews.info()"
   ]
  },
  {
   "cell_type": "code",
   "execution_count": 5,
   "metadata": {},
   "outputs": [],
   "source": [
    "# Gestion des doublons\n",
    "\n",
    "df_reviews.shape\n",
    "\n",
    "df_reviews = df_reviews.drop_duplicates(['order_id', \"review_score\", \"review_comment_title\", \"review_comment_message\", \"review_creation_date\"])\n",
    "\n",
    "# df_reviews.drop_duplicates(['review_id']).shape\n",
    "\n",
    "# df_reviews.shape\n",
    "\n",
    "# df_reviews.shape"
   ]
  },
  {
   "cell_type": "code",
   "execution_count": 6,
   "metadata": {},
   "outputs": [
    {
     "name": "stdout",
     "output_type": "stream",
     "text": [
      "<class 'pandas.core.frame.DataFrame'>\n",
      "Index: 98371 entries, 0 to 98409\n",
      "Data columns (total 7 columns):\n",
      " #   Column                   Non-Null Count  Dtype         \n",
      "---  ------                   --------------  -----         \n",
      " 0   review_id                98371 non-null  object        \n",
      " 1   order_id                 98371 non-null  object        \n",
      " 2   review_score             98371 non-null  int64         \n",
      " 3   review_comment_title     98371 non-null  object        \n",
      " 4   review_comment_message   98371 non-null  object        \n",
      " 5   review_creation_date     98368 non-null  datetime64[ns]\n",
      " 6   review_answer_timestamp  98344 non-null  datetime64[ns]\n",
      "dtypes: datetime64[ns](2), int64(1), object(4)\n",
      "memory usage: 6.0+ MB\n"
     ]
    }
   ],
   "source": [
    "# analyse\n",
    "\n",
    "df_reviews.review_creation_date = pd.to_datetime(df_reviews['review_creation_date'], format= '%Y-%m-%d %H:%M:%S', errors=\"coerce\")\n",
    "df_reviews.review_answer_timestamp = pd.to_datetime(df_reviews['review_answer_timestamp'], format= '%Y-%m-%d %H:%M:%S', errors=\"coerce\")\n",
    "df_reviews.info()"
   ]
  },
  {
   "cell_type": "code",
   "execution_count": 7,
   "metadata": {},
   "outputs": [
    {
     "name": "stdout",
     "output_type": "stream",
     "text": [
      "<class 'pandas.core.frame.DataFrame'>\n",
      "Index: 98344 entries, 27 to 98409\n",
      "Data columns (total 7 columns):\n",
      " #   Column                   Non-Null Count  Dtype         \n",
      "---  ------                   --------------  -----         \n",
      " 0   review_id                98344 non-null  object        \n",
      " 1   order_id                 98344 non-null  object        \n",
      " 2   review_score             98344 non-null  int64         \n",
      " 3   review_comment_title     98344 non-null  object        \n",
      " 4   review_comment_message   98344 non-null  object        \n",
      " 5   review_creation_date     98344 non-null  datetime64[ns]\n",
      " 6   review_answer_timestamp  98344 non-null  datetime64[ns]\n",
      "dtypes: datetime64[ns](2), int64(1), object(4)\n",
      "memory usage: 6.0+ MB\n"
     ]
    }
   ],
   "source": [
    "df_reviews = df_reviews.dropna(subset=['review_creation_date','review_answer_timestamp'])\n",
    "df_reviews.info()"
   ]
  },
  {
   "cell_type": "code",
   "execution_count": 8,
   "metadata": {},
   "outputs": [
    {
     "data": {
      "text/plain": [
       "Series([], Name: count, dtype: int64)"
      ]
     },
     "execution_count": 8,
     "metadata": {},
     "output_type": "execute_result"
    }
   ],
   "source": [
    "df_reviews.loc[df_reviews['review_answer_timestamp'].isna(),:]['review_score'].value_counts()"
   ]
  },
  {
   "cell_type": "code",
   "execution_count": 10,
   "metadata": {},
   "outputs": [
    {
     "data": {
      "text/plain": [
       "review_score\n",
       "5    56866\n",
       "4    18993\n",
       "1    11277\n",
       "3     8095\n",
       "2     3113\n",
       "Name: count, dtype: int64"
      ]
     },
     "execution_count": 10,
     "metadata": {},
     "output_type": "execute_result"
    }
   ],
   "source": [
    "df_reviews['review_score'].value_counts()\n",
    "# df_reviews.info()"
   ]
  }
 ],
 "metadata": {
  "kernelspec": {
   "display_name": "env",
   "language": "python",
   "name": "python3"
  },
  "language_info": {
   "codemirror_mode": {
    "name": "ipython",
    "version": 3
   },
   "file_extension": ".py",
   "mimetype": "text/x-python",
   "name": "python",
   "nbconvert_exporter": "python",
   "pygments_lexer": "ipython3",
   "version": "3.12.1"
  }
 },
 "nbformat": 4,
 "nbformat_minor": 2
}
